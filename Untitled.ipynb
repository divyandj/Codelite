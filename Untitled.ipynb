{
 "cells": [
  {
   "cell_type": "code",
   "execution_count": 1,
   "id": "af17030d-0f0a-446c-b279-a756b7d631ff",
   "metadata": {},
   "outputs": [],
   "source": [
    "import cv2  # OpenCV\n",
    "import os\n",
    "import time\n",
    "import uuid\n",
    "# Create directories for each label\n"
   ]
  },
  {
   "cell_type": "code",
   "execution_count": 3,
   "id": "92302d2a-0fdb-4010-9853-6d217fb59e0f",
   "metadata": {},
   "outputs": [],
   "source": [
    "# Constants\n",
    "IMAGES_PATH = 'Tensorflow/workspace/images/collectedimages'"
   ]
  },
  {
   "cell_type": "code",
   "execution_count": 5,
   "id": "da9c54bc-8476-42aa-bb10-a880239b3031",
   "metadata": {},
   "outputs": [],
   "source": [
    "labels = ['a', 'aa', 'i', 'ee', 'u']\n",
    "number_imgs = 15"
   ]
  },
  {
   "cell_type": "code",
   "execution_count": 7,
   "id": "7433a78c-96a3-4637-bbc3-2da9f8da1df2",
   "metadata": {},
   "outputs": [
    {
     "name": "stdout",
     "output_type": "stream",
     "text": [
      "Collecting images for: a\n",
      "Collecting images for: aa\n",
      "Collecting images for: i\n",
      "Collecting images for: ee\n",
      "Collecting images for: u\n"
     ]
    }
   ],
   "source": [
    "for label in labels:\n",
    "    os.makedirs(os.path.join(IMAGES_PATH, label), exist_ok=True)\n",
    "\n",
    "# Initialize webcam\n",
    "cap = cv2.VideoCapture(0)\n",
    "\n",
    "# Collect images for each label\n",
    "for label in labels:\n",
    "    print('Collecting images for: {}'.format(label))\n",
    "    time.sleep(5)  # Delay to give time to set up the camera\n",
    "\n",
    "    for imgnum in range(number_imgs):\n",
    "        ret, frame = cap.read()  # Capture frame\n",
    "        if not ret:\n",
    "            print(\"Failed to grab frame\")\n",
    "            break\n",
    "\n",
    "        img_name = os.path.join(IMAGES_PATH, label, label + '.' + str(uuid.uuid1()) + '.jpg')\n",
    "        cv2.imwrite(img_name, frame)  # Save the image\n",
    "        cv2.imshow('frame', frame)  # Display the frame\n",
    "\n",
    "        time.sleep(2)  # Delay between captures\n",
    "\n",
    "        if cv2.waitKey(1) & 0xFF == ord('q'):  # Exit on 'q'\n",
    "            break\n",
    "\n",
    "cap.release()  # Release the webcam\n",
    "cv2.destroyAllWindows()  # Close any OpenCV windows"
   ]
  },
  {
   "cell_type": "code",
   "execution_count": null,
   "id": "492c5a37-ee76-4cdd-b8d2-bfb250abbefc",
   "metadata": {},
   "outputs": [],
   "source": []
  }
 ],
 "metadata": {
  "kernelspec": {
   "display_name": "Python 3 (ipykernel)",
   "language": "python",
   "name": "python3"
  },
  "language_info": {
   "codemirror_mode": {
    "name": "ipython",
    "version": 3
   },
   "file_extension": ".py",
   "mimetype": "text/x-python",
   "name": "python",
   "nbconvert_exporter": "python",
   "pygments_lexer": "ipython3",
   "version": "3.12.4"
  }
 },
 "nbformat": 4,
 "nbformat_minor": 5
}
